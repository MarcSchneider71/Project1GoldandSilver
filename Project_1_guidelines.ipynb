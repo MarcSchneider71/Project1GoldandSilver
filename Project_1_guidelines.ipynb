{
 "cells": [
  {
   "cell_type": "markdown",
   "metadata": {},
   "source": [
    "# Data Science Immersive Module 1 Project\n",
    "\n",
    "Congratulations! \n",
    "\n",
    "You have made it passed Module 1! You have learned so much--programming fundamentals, webscraping, API, working with Pandas, and performing exploratory analysis on datasets. For project 1, you will collect your own data from a source of your choosing, and perform exploratory analysis and visualizations on them. \n",
    "\n",
    "Methodology: You are to collect data either through API calls or webscraping, put them in tabular format, and create visualization and exploratory analysis and tell a story of these data you have collected. you are your partner are expected to use git as a collaborative tool for this project to manage version control and history.\n",
    "\n",
    "Data Sources: anything, really. However, some interesting sources you can work with is: \n",
    "- Census/Government data:\n",
    "    - Are different demographic groups different in certain areas(income,education etc?)\n",
    "- Yelp\n",
    "    - Are different types of cuisines rated differently?\n",
    "    - Are restaurants in certain areas more likely to receive higher ratings?\n",
    "- IMDB \n",
    "    - Are different movie genres doing better in terms of box office than others?\n",
    "\n",
    "\n",
    "Deliverables: Your team must prepare science fair presentation that tells an interesting and coherent story. Your presentation should outline the process you went through and use at least 4 data visualizations to help illustrate your findings.  \n",
    "\n",
    "Project Checklist:\n",
    "\n",
    "- Pull data from sources of your choosing\n",
    "- Establish naming conventions for variables and datasets\n",
    "- Use pandas to wrangle data\n",
    "- Clean dataset & record the parameters used to clean the data\n",
    "- Posted to git repo:\n",
    "    - A readme listing lab members, project goals, etc\n",
    "    - A Jupyter notebook of clean and commented code so an independent party can replicate your analysis\n",
    "    - Your final joined and cleaned dataset that was used for analysis\n",
    "- A narrative Jupyter notebook that provides:\n",
    "    - The purpose of your analysis and why it matters\n",
    "    - 4 well annotated visualizations created using matplotlib\n",
    "- Give at least two actionable insights (e.g. What type of films should they be looking to produce? What should the budget requirements be? Should they recruit certain actors for their films?)\n",
    "\n",
    "Instructors and TCFs should be able to view a commented commit history for each element in the git repo"
   ]
  }
 ],
 "metadata": {
  "kernelspec": {
   "display_name": "Python 3",
   "language": "python",
   "name": "python3"
  },
  "language_info": {
   "codemirror_mode": {
    "name": "ipython",
    "version": 3
   },
   "file_extension": ".py",
   "mimetype": "text/x-python",
   "name": "python",
   "nbconvert_exporter": "python",
   "pygments_lexer": "ipython3",
   "version": "3.7.0"
  }
 },
 "nbformat": 4,
 "nbformat_minor": 2
}
